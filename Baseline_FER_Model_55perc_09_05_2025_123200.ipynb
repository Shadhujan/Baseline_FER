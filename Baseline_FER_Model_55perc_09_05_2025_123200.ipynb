{
  "nbformat": 4,
  "nbformat_minor": 0,
  "metadata": {
    "colab": {
      "provenance": [],
      "gpuType": "V28",
      "authorship_tag": "ABX9TyOuIao+7MJtz6OPbZYRx6Bb",
      "include_colab_link": true
    },
    "kernelspec": {
      "name": "python3",
      "display_name": "Python 3"
    },
    "language_info": {
      "name": "python"
    },
    "accelerator": "TPU"
  },
  "cells": [
    {
      "cell_type": "markdown",
      "metadata": {
        "id": "view-in-github",
        "colab_type": "text"
      },
      "source": [
        "<a href=\"https://colab.research.google.com/github/Shadhujan/Baseline_FER/blob/main/Baseline_FER_Model_55perc_09_05_2025_123200.ipynb\" target=\"_parent\"><img src=\"https://colab.research.google.com/assets/colab-badge.svg\" alt=\"Open In Colab\"/></a>"
      ]
    },
    {
      "cell_type": "markdown",
      "source": [
        "1. Environment Setup"
      ],
      "metadata": {
        "id": "wmoI4y6hVn-9"
      }
    },
    {
      "cell_type": "code",
      "execution_count": null,
      "metadata": {
        "colab": {
          "base_uri": "https://localhost:8080/"
        },
        "id": "j2x8H6sKUSBt",
        "outputId": "87648d24-fb89-48a7-f3e0-b4b09e758167"
      },
      "outputs": [
        {
          "output_type": "stream",
          "name": "stdout",
          "text": [
            "Requirement already satisfied: mtcnn in /usr/local/lib/python3.11/dist-packages (1.0.0)\n",
            "Requirement already satisfied: tensorflow==2.12 in /usr/local/lib/python3.11/dist-packages (2.12.0)\n",
            "Requirement already satisfied: absl-py>=1.0.0 in /usr/local/lib/python3.11/dist-packages (from tensorflow==2.12) (1.4.0)\n",
            "Requirement already satisfied: astunparse>=1.6.0 in /usr/local/lib/python3.11/dist-packages (from tensorflow==2.12) (1.6.3)\n",
            "Requirement already satisfied: flatbuffers>=2.0 in /usr/local/lib/python3.11/dist-packages (from tensorflow==2.12) (25.2.10)\n",
            "Requirement already satisfied: gast<=0.4.0,>=0.2.1 in /usr/local/lib/python3.11/dist-packages (from tensorflow==2.12) (0.4.0)\n",
            "Requirement already satisfied: google-pasta>=0.1.1 in /usr/local/lib/python3.11/dist-packages (from tensorflow==2.12) (0.2.0)\n",
            "Requirement already satisfied: grpcio<2.0,>=1.24.3 in /usr/local/lib/python3.11/dist-packages (from tensorflow==2.12) (1.71.0)\n",
            "Requirement already satisfied: h5py>=2.9.0 in /usr/local/lib/python3.11/dist-packages (from tensorflow==2.12) (3.13.0)\n",
            "Requirement already satisfied: jax>=0.3.15 in /usr/local/lib/python3.11/dist-packages (from tensorflow==2.12) (0.4.30)\n",
            "Requirement already satisfied: keras<2.13,>=2.12.0 in /usr/local/lib/python3.11/dist-packages (from tensorflow==2.12) (2.12.0)\n",
            "Requirement already satisfied: libclang>=13.0.0 in /usr/local/lib/python3.11/dist-packages (from tensorflow==2.12) (18.1.1)\n",
            "Requirement already satisfied: numpy<1.24,>=1.22 in /usr/local/lib/python3.11/dist-packages (from tensorflow==2.12) (1.23.5)\n",
            "Requirement already satisfied: opt-einsum>=2.3.2 in /usr/local/lib/python3.11/dist-packages (from tensorflow==2.12) (3.4.0)\n",
            "Requirement already satisfied: packaging in /usr/local/lib/python3.11/dist-packages (from tensorflow==2.12) (24.2)\n",
            "Requirement already satisfied: protobuf!=4.21.0,!=4.21.1,!=4.21.2,!=4.21.3,!=4.21.4,!=4.21.5,<5.0.0dev,>=3.20.3 in /usr/local/lib/python3.11/dist-packages (from tensorflow==2.12) (4.25.7)\n",
            "Requirement already satisfied: setuptools in /usr/local/lib/python3.11/dist-packages (from tensorflow==2.12) (75.2.0)\n",
            "Requirement already satisfied: six>=1.12.0 in /usr/local/lib/python3.11/dist-packages (from tensorflow==2.12) (1.17.0)\n",
            "Requirement already satisfied: tensorboard<2.13,>=2.12 in /usr/local/lib/python3.11/dist-packages (from tensorflow==2.12) (2.12.3)\n",
            "Requirement already satisfied: tensorflow-estimator<2.13,>=2.12.0 in /usr/local/lib/python3.11/dist-packages (from tensorflow==2.12) (2.12.0)\n",
            "Requirement already satisfied: termcolor>=1.1.0 in /usr/local/lib/python3.11/dist-packages (from tensorflow==2.12) (3.1.0)\n",
            "Requirement already satisfied: typing-extensions>=3.6.6 in /usr/local/lib/python3.11/dist-packages (from tensorflow==2.12) (4.13.2)\n",
            "Requirement already satisfied: wrapt<1.15,>=1.11.0 in /usr/local/lib/python3.11/dist-packages (from tensorflow==2.12) (1.14.1)\n",
            "Requirement already satisfied: tensorflow-io-gcs-filesystem>=0.23.1 in /usr/local/lib/python3.11/dist-packages (from tensorflow==2.12) (0.37.1)\n",
            "Requirement already satisfied: joblib>=1.4.2 in /usr/local/lib/python3.11/dist-packages (from mtcnn) (1.4.2)\n",
            "Requirement already satisfied: lz4>=4.3.3 in /usr/local/lib/python3.11/dist-packages (from mtcnn) (4.4.4)\n",
            "Requirement already satisfied: wheel<1.0,>=0.23.0 in /usr/local/lib/python3.11/dist-packages (from astunparse>=1.6.0->tensorflow==2.12) (0.45.1)\n",
            "Requirement already satisfied: jaxlib<=0.4.30,>=0.4.27 in /usr/local/lib/python3.11/dist-packages (from jax>=0.3.15->tensorflow==2.12) (0.4.30)\n",
            "Requirement already satisfied: ml-dtypes>=0.2.0 in /usr/local/lib/python3.11/dist-packages (from jax>=0.3.15->tensorflow==2.12) (0.4.1)\n",
            "Requirement already satisfied: scipy>=1.9 in /usr/local/lib/python3.11/dist-packages (from jax>=0.3.15->tensorflow==2.12) (1.15.2)\n",
            "Requirement already satisfied: google-auth<3,>=1.6.3 in /usr/local/lib/python3.11/dist-packages (from tensorboard<2.13,>=2.12->tensorflow==2.12) (2.38.0)\n",
            "Requirement already satisfied: google-auth-oauthlib<1.1,>=0.5 in /usr/local/lib/python3.11/dist-packages (from tensorboard<2.13,>=2.12->tensorflow==2.12) (1.0.0)\n",
            "Requirement already satisfied: markdown>=2.6.8 in /usr/local/lib/python3.11/dist-packages (from tensorboard<2.13,>=2.12->tensorflow==2.12) (3.8)\n",
            "Requirement already satisfied: requests<3,>=2.21.0 in /usr/local/lib/python3.11/dist-packages (from tensorboard<2.13,>=2.12->tensorflow==2.12) (2.32.3)\n",
            "Requirement already satisfied: tensorboard-data-server<0.8.0,>=0.7.0 in /usr/local/lib/python3.11/dist-packages (from tensorboard<2.13,>=2.12->tensorflow==2.12) (0.7.2)\n",
            "Requirement already satisfied: werkzeug>=1.0.1 in /usr/local/lib/python3.11/dist-packages (from tensorboard<2.13,>=2.12->tensorflow==2.12) (3.1.3)\n",
            "Requirement already satisfied: cachetools<6.0,>=2.0.0 in /usr/local/lib/python3.11/dist-packages (from google-auth<3,>=1.6.3->tensorboard<2.13,>=2.12->tensorflow==2.12) (5.5.2)\n",
            "Requirement already satisfied: pyasn1-modules>=0.2.1 in /usr/local/lib/python3.11/dist-packages (from google-auth<3,>=1.6.3->tensorboard<2.13,>=2.12->tensorflow==2.12) (0.4.2)\n",
            "Requirement already satisfied: rsa<5,>=3.1.4 in /usr/local/lib/python3.11/dist-packages (from google-auth<3,>=1.6.3->tensorboard<2.13,>=2.12->tensorflow==2.12) (4.9.1)\n",
            "Requirement already satisfied: requests-oauthlib>=0.7.0 in /usr/local/lib/python3.11/dist-packages (from google-auth-oauthlib<1.1,>=0.5->tensorboard<2.13,>=2.12->tensorflow==2.12) (2.0.0)\n",
            "Requirement already satisfied: charset-normalizer<4,>=2 in /usr/local/lib/python3.11/dist-packages (from requests<3,>=2.21.0->tensorboard<2.13,>=2.12->tensorflow==2.12) (3.4.1)\n",
            "Requirement already satisfied: idna<4,>=2.5 in /usr/local/lib/python3.11/dist-packages (from requests<3,>=2.21.0->tensorboard<2.13,>=2.12->tensorflow==2.12) (3.10)\n",
            "Requirement already satisfied: urllib3<3,>=1.21.1 in /usr/local/lib/python3.11/dist-packages (from requests<3,>=2.21.0->tensorboard<2.13,>=2.12->tensorflow==2.12) (2.4.0)\n",
            "Requirement already satisfied: certifi>=2017.4.17 in /usr/local/lib/python3.11/dist-packages (from requests<3,>=2.21.0->tensorboard<2.13,>=2.12->tensorflow==2.12) (2025.4.26)\n",
            "Requirement already satisfied: MarkupSafe>=2.1.1 in /usr/local/lib/python3.11/dist-packages (from werkzeug>=1.0.1->tensorboard<2.13,>=2.12->tensorflow==2.12) (3.0.2)\n",
            "Requirement already satisfied: pyasn1<0.7.0,>=0.6.1 in /usr/local/lib/python3.11/dist-packages (from pyasn1-modules>=0.2.1->google-auth<3,>=1.6.3->tensorboard<2.13,>=2.12->tensorflow==2.12) (0.6.1)\n",
            "Requirement already satisfied: oauthlib>=3.0.0 in /usr/local/lib/python3.11/dist-packages (from requests-oauthlib>=0.7.0->google-auth-oauthlib<1.1,>=0.5->tensorboard<2.13,>=2.12->tensorflow==2.12) (3.2.2)\n"
          ]
        }
      ],
      "source": [
        "!pip install mtcnn tensorflow==2.12\n",
        "\n",
        "import os\n",
        "import numpy as np\n",
        "import tensorflow as tf\n",
        "from mtcnn import MTCNN\n",
        "from tensorflow.keras.preprocessing.image import ImageDataGenerator\n",
        "from tensorflow.keras import layers, models, callbacks"
      ]
    },
    {
      "cell_type": "markdown",
      "source": [
        "2. Data Acquisition"
      ],
      "metadata": {
        "id": "fSKwjnYHWni0"
      }
    },
    {
      "cell_type": "markdown",
      "source": [
        "2.1 FER2013 (48×48 greyscale, 7 emotions)\n",
        "Where to download: Kaggle’s FER-2013 dataset → download the CSV or image files from Kaggle\n",
        "Kaggle\n",
        "\n",
        "Link: https://www.kaggle.com/datasets/msambare/fer2013\n",
        "\n",
        "2.2 CAFE (Child Affective Facial Expression Set)\n",
        "Where to download: Databrary (requires researcher registration)\n",
        "childstudycenter\n",
        "\n",
        "Link: https://databrary.org/volume/30\n",
        "\n",
        "2.3 RaFD (Radboud Faces Database)**\n",
        "Where to download: Official Radboud site (free for non-commercial academic use)\n",
        "Radboud Faces Database\n",
        "\n",
        "Link: http://www.socsci.ru.nl:8180/RaFD2/RaFD"
      ],
      "metadata": {
        "id": "12gxPFouWusj"
      }
    },
    {
      "cell_type": "markdown",
      "source": [
        "3. Drive Mount & Storage\n",
        "Mount Google Drive:\n",
        "\n",
        "```\n",
        "from google.colab import drive\n",
        "drive.mount('/content/drive')\n",
        "```\n",
        "\n",
        ">This makes your Drive files available under /content/drive/MyDrive/\n",
        "\n",
        "\n",
        "Folder Structure:\n",
        "```\n",
        "/content/drive/MyDrive/datasets/\n",
        "    fer2013/\n",
        "    cafe/\n",
        "    rafd/\n",
        "```\n"
      ],
      "metadata": {
        "id": "QlfVM9d8W4ab"
      }
    },
    {
      "cell_type": "markdown",
      "source": [],
      "metadata": {
        "id": "jbZJQYH1X170"
      }
    },
    {
      "cell_type": "code",
      "source": [
        "from google.colab import drive\n",
        "drive.mount('/content/drive')"
      ],
      "metadata": {
        "id": "Lu-7xv4ixBGD",
        "colab": {
          "base_uri": "https://localhost:8080/"
        },
        "outputId": "bc2bfe58-0ce7-4a02-8370-06d456078069"
      },
      "execution_count": null,
      "outputs": [
        {
          "output_type": "stream",
          "name": "stdout",
          "text": [
            "Mounted at /content/drive\n"
          ]
        }
      ]
    },
    {
      "cell_type": "code",
      "source": [
        "import zipfile\n",
        "from pathlib import Path\n",
        "\n",
        "# 1. Paths to your zip files\n",
        "zip_paths = [\n",
        "    \"/content/drive/MyDrive/datasets/FER-2013_v1.zip\",\n",
        "    \"/content/drive/MyDrive/datasets/FER-2013_v2.zip\",\n",
        "    \"/content/drive/MyDrive/datasets/archive.zip\",\n",
        "    \"/content/drive/MyDrive/datasets/fer2013.csv.zip\"\n",
        "]\n",
        "\n",
        "# 2. Create the dataset directory\n",
        "dataset_dir = Path(\"/content/dataset\")\n",
        "dataset_dir.mkdir(parents=True, exist_ok=True)\n",
        "\n",
        "# 3. Extract each zip\n",
        "for zp in zip_paths:\n",
        "    with zipfile.ZipFile(zp, 'r') as archive:\n",
        "        archive.extractall(dataset_dir)\n",
        "        print(f\"Extracted {zp} ➔ {dataset_dir}\")\n"
      ],
      "metadata": {
        "colab": {
          "base_uri": "https://localhost:8080/"
        },
        "id": "Aiv-K147WtyL",
        "outputId": "6315ff60-f425-4e59-d1cd-fcdabd54897d"
      },
      "execution_count": null,
      "outputs": [
        {
          "output_type": "stream",
          "name": "stdout",
          "text": [
            "Extracted /content/drive/MyDrive/datasets/FER-2013_v1.zip ➔ /content/dataset\n",
            "Extracted /content/drive/MyDrive/datasets/FER-2013_v2.zip ➔ /content/dataset\n",
            "Extracted /content/drive/MyDrive/datasets/archive.zip ➔ /content/dataset\n",
            "Extracted /content/drive/MyDrive/datasets/fer2013.csv.zip ➔ /content/dataset\n"
          ]
        }
      ]
    },
    {
      "cell_type": "markdown",
      "source": [
        "# **2. Data Generators**\n",
        ">Use Keras’s flow_from_directory() to read labeled subfolders under your train/test paths."
      ],
      "metadata": {
        "id": "jE6uPQyhDxNn"
      }
    },
    {
      "cell_type": "code",
      "source": [
        "# 2.1 Augmentation & Rescaling\n",
        "train_datagen = ImageDataGenerator(\n",
        "    rescale=1./255,\n",
        "    rotation_range=15,\n",
        "    width_shift_range=0.1,\n",
        "    height_shift_range=0.1,\n",
        "    zoom_range=0.1,\n",
        "    horizontal_flip=True\n",
        ")\n",
        "\n",
        "test_datagen  = ImageDataGenerator(rescale=1./255)\n",
        "\n",
        "# 2.2 Point to your directories\n",
        "train_gen = train_datagen.flow_from_directory(\n",
        "    '/content/dataset/train',        # train root folder\n",
        "    target_size=(48,48),\n",
        "    batch_size=32,\n",
        "    class_mode='categorical'         # one-hot labels for multiple emotions\n",
        ")\n",
        "\n",
        "test_gen = test_datagen.flow_from_directory(\n",
        "    '/content/dataset/test',         # test root folder\n",
        "    target_size=(48,48),\n",
        "    batch_size=32,\n",
        "    class_mode='categorical'\n",
        ")\n"
      ],
      "metadata": {
        "colab": {
          "base_uri": "https://localhost:8080/"
        },
        "id": "oCQb-cxwD4Bw",
        "outputId": "f0b593a7-43d6-4fe3-ea3b-f5e95c2289bf"
      },
      "execution_count": null,
      "outputs": [
        {
          "output_type": "stream",
          "name": "stdout",
          "text": [
            "Found 28709 images belonging to 7 classes.\n",
            "Found 7178 images belonging to 7 classes.\n"
          ]
        }
      ]
    },
    {
      "cell_type": "markdown",
      "source": [
        "– flow_from_directory expects subfolders per class and yields batches at training time"
      ],
      "metadata": {
        "id": "MNhTx0srEC3P"
      }
    },
    {
      "cell_type": "markdown",
      "source": [
        "4. Data Preparation\n",
        ">4.1 Face Detection & Cropping"
      ],
      "metadata": {
        "id": "XXJVV2I25RM3"
      }
    },
    {
      "cell_type": "code",
      "source": [
        "detector = MTCNN()\n",
        "def extract_face(img):\n",
        "    res = detector.detect_faces(img)\n",
        "    x,y,w,h = res[0]['box']\n",
        "    return img[y:y+h, x:x+w]"
      ],
      "metadata": {
        "id": "zh8CL8rm5On_"
      },
      "execution_count": null,
      "outputs": []
    },
    {
      "cell_type": "markdown",
      "source": [
        ">>4.2 Resize & Normalize"
      ],
      "metadata": {
        "id": "D-s9ZrCf6KoK"
      }
    },
    {
      "cell_type": "code",
      "source": [
        "import tensorflow as tf\n",
        "def preprocess(img):\n",
        "    face = extract_face(img)\n",
        "    face = tf.image.resize(face, [48,48]) / 255.0\n",
        "    return face\n"
      ],
      "metadata": {
        "id": "rvCnFB7t6NdV"
      },
      "execution_count": null,
      "outputs": []
    },
    {
      "cell_type": "markdown",
      "source": [
        "5. Model Definition & Training"
      ],
      "metadata": {
        "id": "Z56SfC0G67uz"
      }
    },
    {
      "cell_type": "code",
      "source": [
        "model = models.Sequential([\n",
        "    layers.Conv2D(32, (3,3), activation='relu', input_shape=(48,48,3)),\n",
        "    layers.MaxPooling2D(2,2),\n",
        "    layers.Conv2D(64, (3,3), activation='relu'),\n",
        "    layers.MaxPooling2D(2,2),\n",
        "    layers.Flatten(),\n",
        "    layers.Dense(128, activation='relu'),\n",
        "    layers.Dropout(0.5),\n",
        "    layers.Dense(train_gen.num_classes, activation='softmax')\n",
        "])\n",
        "model.compile(\n",
        "    optimizer='adam',\n",
        "    loss='categorical_crossentropy',\n",
        "    metrics=['accuracy']\n",
        ")\n"
      ],
      "metadata": {
        "id": "NBmXbpfM68YT"
      },
      "execution_count": null,
      "outputs": []
    },
    {
      "cell_type": "markdown",
      "source": [
        "3.2 Early Stopping & Fit\n"
      ],
      "metadata": {
        "id": "BudbWTXPEfwR"
      }
    },
    {
      "cell_type": "code",
      "source": [
        "early_stop = callbacks.EarlyStopping(\n",
        "    monitor='val_loss',\n",
        "    patience=5,\n",
        "    restore_best_weights=True\n",
        ")\n",
        "\n",
        "history = model.fit(\n",
        "    train_gen,\n",
        "    validation_data=test_gen,\n",
        "    epochs=50,\n",
        "    callbacks=[early_stop]\n",
        ")\n"
      ],
      "metadata": {
        "colab": {
          "base_uri": "https://localhost:8080/"
        },
        "id": "DZH1zVzsEhVv",
        "outputId": "26118c74-6dcd-4279-cc2c-18824ec63fb4"
      },
      "execution_count": 9,
      "outputs": [
        {
          "output_type": "stream",
          "name": "stdout",
          "text": [
            "Epoch 1/50\n",
            "898/898 [==============================] - 177s 196ms/step - loss: 1.7848 - accuracy: 0.2669 - val_loss: 1.6466 - val_accuracy: 0.3569\n",
            "Epoch 2/50\n",
            "898/898 [==============================] - 157s 175ms/step - loss: 1.6979 - accuracy: 0.3158 - val_loss: 1.5374 - val_accuracy: 0.3930\n",
            "Epoch 3/50\n",
            "898/898 [==============================] - 152s 169ms/step - loss: 1.6260 - accuracy: 0.3596 - val_loss: 1.4476 - val_accuracy: 0.4524\n",
            "Epoch 4/50\n",
            "898/898 [==============================] - 149s 166ms/step - loss: 1.5736 - accuracy: 0.3853 - val_loss: 1.4063 - val_accuracy: 0.4602\n",
            "Epoch 5/50\n",
            "898/898 [==============================] - 157s 174ms/step - loss: 1.5384 - accuracy: 0.4006 - val_loss: 1.3672 - val_accuracy: 0.4720\n",
            "Epoch 6/50\n",
            "898/898 [==============================] - 154s 171ms/step - loss: 1.5090 - accuracy: 0.4131 - val_loss: 1.3702 - val_accuracy: 0.4724\n",
            "Epoch 7/50\n",
            "898/898 [==============================] - 154s 172ms/step - loss: 1.4882 - accuracy: 0.4266 - val_loss: 1.3144 - val_accuracy: 0.4928\n",
            "Epoch 8/50\n",
            "898/898 [==============================] - 156s 173ms/step - loss: 1.4672 - accuracy: 0.4379 - val_loss: 1.2877 - val_accuracy: 0.5032\n",
            "Epoch 9/50\n",
            "898/898 [==============================] - 151s 168ms/step - loss: 1.4484 - accuracy: 0.4397 - val_loss: 1.3135 - val_accuracy: 0.4993\n",
            "Epoch 10/50\n",
            "898/898 [==============================] - 153s 170ms/step - loss: 1.4349 - accuracy: 0.4489 - val_loss: 1.3045 - val_accuracy: 0.5053\n",
            "Epoch 11/50\n",
            "898/898 [==============================] - 152s 169ms/step - loss: 1.4278 - accuracy: 0.4518 - val_loss: 1.2754 - val_accuracy: 0.5107\n",
            "Epoch 12/50\n",
            "898/898 [==============================] - 154s 172ms/step - loss: 1.4182 - accuracy: 0.4554 - val_loss: 1.2648 - val_accuracy: 0.5137\n",
            "Epoch 13/50\n",
            "898/898 [==============================] - 150s 167ms/step - loss: 1.4029 - accuracy: 0.4611 - val_loss: 1.2706 - val_accuracy: 0.5132\n",
            "Epoch 14/50\n",
            "898/898 [==============================] - 151s 169ms/step - loss: 1.3949 - accuracy: 0.4629 - val_loss: 1.2449 - val_accuracy: 0.5231\n",
            "Epoch 15/50\n",
            "898/898 [==============================] - 152s 169ms/step - loss: 1.3912 - accuracy: 0.4664 - val_loss: 1.2442 - val_accuracy: 0.5217\n",
            "Epoch 16/50\n",
            "898/898 [==============================] - 149s 166ms/step - loss: 1.3855 - accuracy: 0.4709 - val_loss: 1.2699 - val_accuracy: 0.5163\n",
            "Epoch 17/50\n",
            "898/898 [==============================] - 151s 168ms/step - loss: 1.3756 - accuracy: 0.4753 - val_loss: 1.2388 - val_accuracy: 0.5318\n",
            "Epoch 18/50\n",
            "898/898 [==============================] - 153s 170ms/step - loss: 1.3694 - accuracy: 0.4772 - val_loss: 1.2539 - val_accuracy: 0.5220\n",
            "Epoch 19/50\n",
            "898/898 [==============================] - 150s 167ms/step - loss: 1.3690 - accuracy: 0.4764 - val_loss: 1.2275 - val_accuracy: 0.5288\n",
            "Epoch 20/50\n",
            "898/898 [==============================] - 152s 170ms/step - loss: 1.3590 - accuracy: 0.4805 - val_loss: 1.2310 - val_accuracy: 0.5284\n",
            "Epoch 21/50\n",
            "898/898 [==============================] - 152s 169ms/step - loss: 1.3612 - accuracy: 0.4783 - val_loss: 1.2435 - val_accuracy: 0.5220\n",
            "Epoch 22/50\n",
            "898/898 [==============================] - 151s 168ms/step - loss: 1.3548 - accuracy: 0.4807 - val_loss: 1.2133 - val_accuracy: 0.5350\n",
            "Epoch 23/50\n",
            "898/898 [==============================] - 151s 169ms/step - loss: 1.3535 - accuracy: 0.4822 - val_loss: 1.2383 - val_accuracy: 0.5286\n",
            "Epoch 24/50\n",
            "898/898 [==============================] - 152s 169ms/step - loss: 1.3487 - accuracy: 0.4820 - val_loss: 1.2292 - val_accuracy: 0.5291\n",
            "Epoch 25/50\n",
            "898/898 [==============================] - 150s 167ms/step - loss: 1.3435 - accuracy: 0.4851 - val_loss: 1.1854 - val_accuracy: 0.5463\n",
            "Epoch 26/50\n",
            "898/898 [==============================] - 153s 170ms/step - loss: 1.3408 - accuracy: 0.4839 - val_loss: 1.2025 - val_accuracy: 0.5425\n",
            "Epoch 27/50\n",
            "898/898 [==============================] - 153s 170ms/step - loss: 1.3376 - accuracy: 0.4890 - val_loss: 1.1882 - val_accuracy: 0.5475\n",
            "Epoch 28/50\n",
            "898/898 [==============================] - 159s 177ms/step - loss: 1.3397 - accuracy: 0.4872 - val_loss: 1.1847 - val_accuracy: 0.5444\n",
            "Epoch 29/50\n",
            "898/898 [==============================] - 154s 171ms/step - loss: 1.3368 - accuracy: 0.4891 - val_loss: 1.1859 - val_accuracy: 0.5493\n",
            "Epoch 30/50\n",
            "898/898 [==============================] - 154s 172ms/step - loss: 1.3316 - accuracy: 0.4921 - val_loss: 1.1942 - val_accuracy: 0.5460\n",
            "Epoch 31/50\n",
            "898/898 [==============================] - 154s 172ms/step - loss: 1.3269 - accuracy: 0.4924 - val_loss: 1.2022 - val_accuracy: 0.5418\n",
            "Epoch 32/50\n",
            "898/898 [==============================] - 152s 169ms/step - loss: 1.3313 - accuracy: 0.4921 - val_loss: 1.1853 - val_accuracy: 0.5493\n",
            "Epoch 33/50\n",
            "898/898 [==============================] - 153s 170ms/step - loss: 1.3245 - accuracy: 0.4932 - val_loss: 1.1843 - val_accuracy: 0.5488\n",
            "Epoch 34/50\n",
            "898/898 [==============================] - 158s 175ms/step - loss: 1.3252 - accuracy: 0.4921 - val_loss: 1.2041 - val_accuracy: 0.5461\n",
            "Epoch 35/50\n",
            "898/898 [==============================] - 156s 174ms/step - loss: 1.3160 - accuracy: 0.4933 - val_loss: 1.1803 - val_accuracy: 0.5461\n",
            "Epoch 36/50\n",
            "898/898 [==============================] - 151s 168ms/step - loss: 1.3061 - accuracy: 0.5030 - val_loss: 1.1990 - val_accuracy: 0.5451\n",
            "Epoch 37/50\n",
            "898/898 [==============================] - 156s 174ms/step - loss: 1.3077 - accuracy: 0.5028 - val_loss: 1.1757 - val_accuracy: 0.5521\n",
            "Epoch 38/50\n",
            "898/898 [==============================] - 153s 170ms/step - loss: 1.3133 - accuracy: 0.5014 - val_loss: 1.2122 - val_accuracy: 0.5451\n",
            "Epoch 39/50\n",
            "898/898 [==============================] - 150s 167ms/step - loss: 1.3058 - accuracy: 0.5005 - val_loss: 1.1791 - val_accuracy: 0.5499\n",
            "Epoch 40/50\n",
            "898/898 [==============================] - 152s 169ms/step - loss: 1.3133 - accuracy: 0.4958 - val_loss: 1.1841 - val_accuracy: 0.5504\n",
            "Epoch 41/50\n",
            "898/898 [==============================] - 155s 172ms/step - loss: 1.3073 - accuracy: 0.5023 - val_loss: 1.1808 - val_accuracy: 0.5436\n",
            "Epoch 42/50\n",
            "898/898 [==============================] - 151s 168ms/step - loss: 1.3039 - accuracy: 0.4993 - val_loss: 1.1876 - val_accuracy: 0.5464\n"
          ]
        }
      ]
    },
    {
      "cell_type": "markdown",
      "source": [
        "– Stops when validation loss stops improving to prevent overfitting"
      ],
      "metadata": {
        "id": "jexHRjbdEkKB"
      }
    },
    {
      "cell_type": "markdown",
      "source": [
        "4. Evaluation & Inference\n",
        ">4.1 Plot Metrics"
      ],
      "metadata": {
        "id": "4M8b7n7VElg_"
      }
    },
    {
      "cell_type": "code",
      "source": [
        "import matplotlib.pyplot as plt\n",
        "\n",
        "plt.plot(history.history['accuracy'], label='train_acc')\n",
        "plt.plot(history.history['val_accuracy'], label='test_acc')\n",
        "plt.legend(); plt.show()\n"
      ],
      "metadata": {
        "id": "-p0wQd0QEo6x",
        "colab": {
          "base_uri": "https://localhost:8080/",
          "height": 430
        },
        "outputId": "d9662a82-b634-48a8-d1ae-61ffb322f96f"
      },
      "execution_count": 11,
      "outputs": [
        {
          "output_type": "display_data",
          "data": {
            "text/plain": [
              "<Figure size 640x480 with 1 Axes>"
            ],
            "image/png": "[encoded data removed]"
          },
          "metadata": {}
        }
      ]
    },
    {
      "cell_type": "markdown",
      "source": [
        ">>4.2 Confusion Matrix"
      ],
      "metadata": {
        "id": "paSICO-fEqWQ"
      }
    },
    {
      "cell_type": "code",
      "source": [
        "from sklearn.metrics import confusion_matrix, classification_report\n",
        "\n",
        "# Gather all test data and true labels\n",
        "X_test, y_test = [], []\n",
        "for X_batch, y_batch in test_gen:\n",
        "    X_test.append(X_batch)\n",
        "    y_test.append(y_batch)\n",
        "    if len(X_test)*test_gen.batch_size >= test_gen.samples:\n",
        "        break\n",
        "\n",
        "X_test = np.vstack(X_test)\n",
        "y_true = np.argmax(np.vstack(y_test), axis=1)\n",
        "y_pred = np.argmax(model.predict(X_test), axis=1)\n",
        "\n",
        "cm = confusion_matrix(y_true, y_pred)\n",
        "print(cm)\n",
        "print(classification_report(y_true, y_pred, target_names=list(test_gen.class_indices.keys())))\n"
      ],
      "metadata": {
        "id": "V_Klt3GfEsX4",
        "colab": {
          "base_uri": "https://localhost:8080/"
        },
        "outputId": "a0fe71fa-8db4-41f1-a187-9d99a90ae031"
      },
      "execution_count": 12,
      "outputs": [
        {
          "output_type": "stream",
          "name": "stdout",
          "text": [
            "225/225 [==============================] - 6s 28ms/step\n",
            "[[ 406    0   46  108  191  178   29]\n",
            " [  57    7    7    9   11   17    3]\n",
            " [ 157    0  162  104  212  247  142]\n",
            " [  48    0   24 1464  115   87   36]\n",
            " [  81    1   24  143  767  198   19]\n",
            " [ 114    0   48  143  339  583   20]\n",
            " [  40    0   46   66   82   23  574]]\n",
            "              precision    recall  f1-score   support\n",
            "\n",
            "       angry       0.45      0.42      0.44       958\n",
            "     disgust       0.88      0.06      0.12       111\n",
            "        fear       0.45      0.16      0.23      1024\n",
            "       happy       0.72      0.83      0.77      1774\n",
            "     neutral       0.45      0.62      0.52      1233\n",
            "         sad       0.44      0.47      0.45      1247\n",
            "    surprise       0.70      0.69      0.69       831\n",
            "\n",
            "    accuracy                           0.55      7178\n",
            "   macro avg       0.58      0.46      0.46      7178\n",
            "weighted avg       0.55      0.55      0.53      7178\n",
            "\n"
          ]
        }
      ]
    },
    {
      "cell_type": "markdown",
      "source": [
        "save"
      ],
      "metadata": {
        "id": "xgMMqh5BzVVD"
      }
    },
    {
      "cell_type": "code",
      "source": [
        "import absl.logging\n",
        "absl.logging.set_verbosity(absl.logging.ERROR)"
      ],
      "metadata": {
        "id": "w5ArSnAozstt"
      },
      "execution_count": 14,
      "outputs": []
    },
    {
      "cell_type": "code",
      "source": [
        "# 1. Save the entire model (architecture + weights + optimizer state) as a single file:\n",
        "model.save('/content/drive/MyDrive/FER_model.h5')\n",
        "# └─ you can also use .keras instead of .h5 in TF-Keras v3\n",
        "\n",
        "# 2. (Optional) Or export in TensorFlow “SavedModel” format, which creates a folder:\n",
        "model.save('/content/drive/MyDrive/FER_SavedModel', save_format='tf')"
      ],
      "metadata": {
        "id": "VMpgIwvazUxY"
      },
      "execution_count": 15,
      "outputs": []
    },
    {
      "cell_type": "markdown",
      "source": [
        "Quick sanity check"
      ],
      "metadata": {
        "id": "JkhXVzPQz18k"
      }
    },
    {
      "cell_type": "code",
      "source": [
        "from tensorflow.keras.models import load_model\n",
        "import numpy as np\n",
        "\n",
        "# 1. Load\n",
        "model = load_model('/content/drive/MyDrive/FER_model.h5')\n",
        "\n",
        "# 2. Dummy input (batch of one 48×48 RGB face)\n",
        "x = np.random.rand(1,48,48,3).astype('float32')\n",
        "# 3. Run inference\n",
        "print(model.predict(x))\n"
      ],
      "metadata": {
        "colab": {
          "base_uri": "https://localhost:8080/"
        },
        "id": "HSLphozGz3Tm",
        "outputId": "1d46623c-ebb5-4975-b460-c28411035362"
      },
      "execution_count": 16,
      "outputs": [
        {
          "output_type": "stream",
          "name": "stdout",
          "text": [
            "1/1 [==============================] - 0s 154ms/step\n",
            "[[0.14666557 0.02114715 0.1580859  0.11703003 0.20187008 0.28999558\n",
            "  0.06520572]]\n"
          ]
        }
      ]
    },
    {
      "cell_type": "code",
      "source": [
        "print(train_gen.class_indices)"
      ],
      "metadata": {
        "colab": {
          "base_uri": "https://localhost:8080/"
        },
        "id": "8lX-3n8Z0Eyg",
        "outputId": "6362249f-0523-4559-a2c2-44e0bdd4dcb4"
      },
      "execution_count": 17,
      "outputs": [
        {
          "output_type": "stream",
          "name": "stdout",
          "text": [
            "{'angry': 0, 'disgust': 1, 'fear': 2, 'happy': 3, 'neutral': 4, 'sad': 5, 'surprise': 6}\n"
          ]
        }
      ]
    },
    {
      "cell_type": "markdown",
      "source": [
        "test"
      ],
      "metadata": {
        "id": "XeJ_Z69u1Ba2"
      }
    },
    {
      "cell_type": "code",
      "source": [
        "import os\n",
        "import cv2\n",
        "import numpy as np\n",
        "from mtcnn import MTCNN\n",
        "from tensorflow.keras.models import load_model\n",
        "\n",
        "# Load model & detector once\n",
        "model = load_model('/content/drive/MyDrive/FER_model.h5')\n",
        "detector = MTCNN()\n",
        "idx2label = {v:k for k,v in train_gen.class_indices.items()}\n",
        "\n",
        "def predict_emotion(image_path):\n",
        "    # 0) Check that it exists on disk\n",
        "    if not os.path.isfile(image_path):\n",
        "        raise FileNotFoundError(f\"Image not found: {image_path}\")\n",
        "\n",
        "    # 1) Read & convert to RGB\n",
        "    img_bgr = cv2.imread(image_path, cv2.IMREAD_COLOR)\n",
        "    if img_bgr is None:\n",
        "        raise ValueError(f\"cv2.imread failed for {image_path}\")\n",
        "    img_rgb = cv2.cvtColor(img_bgr, cv2.COLOR_BGR2RGB)\n",
        "\n",
        "    # 2) Detect face & crop\n",
        "    faces = detector.detect_faces(img_rgb)\n",
        "    if not faces:\n",
        "        raise ValueError(\"No face detected in the image.\")\n",
        "    x,y,w,h = faces[0]['box']\n",
        "    face = img_rgb[y:y+h, x:x+w]\n",
        "\n",
        "    # 3) Resize & normalize\n",
        "    face = cv2.resize(face, (48,48))\n",
        "    face = face.astype('float32') / 255.0\n",
        "\n",
        "    # 4) Predict\n",
        "    probs = model.predict(np.expand_dims(face, 0))[0]\n",
        "    best_idx = np.argmax(probs)\n",
        "    return idx2label[best_idx], float(probs[best_idx])\n",
        "\n",
        "# Example usage\n",
        "img_path = '/content/drive/MyDrive/datasets/test/HappyKid.jpg'\n",
        "label, confidence = predict_emotion(img_path)\n",
        "print(f\"Predicted emotion: {label} ({confidence*100:.1f}% confidence)\")\n"
      ],
      "metadata": {
        "colab": {
          "base_uri": "https://localhost:8080/"
        },
        "id": "HTB0ne2u1CDm",
        "outputId": "fbe51b92-549a-4aa4-d8cb-d55c68752ff9"
      },
      "execution_count": 20,
      "outputs": [
        {
          "output_type": "stream",
          "name": "stdout",
          "text": [
            "1/1 [==============================] - 0s 150ms/step\n",
            "Predicted emotion: happy (85.4% confidence)\n"
          ]
        }
      ]
    }
  ]
}