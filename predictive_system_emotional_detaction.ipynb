{
  "nbformat": 4,
  "nbformat_minor": 0,
  "metadata": {
    "colab": {
      "provenance": [],
      "gpuType": "T4",
      "authorship_tag": "ABX9TyN+j5q5Fy6SrcYnB8eBJMR2",
      "include_colab_link": true
    },
    "kernelspec": {
      "name": "python3",
      "display_name": "Python 3"
    },
    "language_info": {
      "name": "python"
    },
    "accelerator": "GPU"
  },
  "cells": [
    {
      "cell_type": "markdown",
      "metadata": {
        "id": "view-in-github",
        "colab_type": "text"
      },
      "source": [
        "<a href=\"https://colab.research.google.com/github/Shadhujan/Baseline_FER/blob/main/predictive_system_emotional_detaction.ipynb\" target=\"_parent\"><img src=\"https://colab.research.google.com/assets/colab-badge.svg\" alt=\"Open In Colab\"/></a>"
      ]
    },
    {
      "cell_type": "code",
      "source": [
        "from google.colab import drive\n",
        "drive.mount('/content/drive')"
      ],
      "metadata": {
        "colab": {
          "base_uri": "https://localhost:8080/"
        },
        "id": "d3Tsi-Z1m3km",
        "outputId": "698ebec1-eaf2-4648-edbc-15d3dab77e56"
      },
      "execution_count": 1,
      "outputs": [
        {
          "output_type": "stream",
          "name": "stdout",
          "text": [
            "Mounted at /content/drive\n"
          ]
        }
      ]
    },
    {
      "cell_type": "code",
      "source": [
        "!pip install opencv-python"
      ],
      "metadata": {
        "colab": {
          "base_uri": "https://localhost:8080/"
        },
        "id": "AMjKjVdnx8wb",
        "outputId": "f9453e17-a17f-4b12-a1fa-8af1c8ce73a6"
      },
      "execution_count": 2,
      "outputs": [
        {
          "output_type": "stream",
          "name": "stdout",
          "text": [
            "Requirement already satisfied: opencv-python in /usr/local/lib/python3.11/dist-packages (4.11.0.86)\n",
            "Requirement already satisfied: numpy>=1.21.2 in /usr/local/lib/python3.11/dist-packages (from opencv-python) (2.0.2)\n"
          ]
        }
      ]
    },
    {
      "cell_type": "code",
      "execution_count": 24,
      "metadata": {
        "id": "hX-x_9F4mueS"
      },
      "outputs": [],
      "source": [
        "import numpy as np\n",
        "from PIL import Image\n",
        "import matplotlib.pyplot as plt\n",
        "from tensorflow.keras import models, layers\n",
        "from keras.applications import VGG16\n",
        "from tensorflow.keras.optimizers import RMSprop\n",
        "from tensorflow.keras.losses import CategoricalCrossentropy\n",
        "from tensorflow.keras.metrics import CategoricalAccuracy\n",
        "import cv2\n",
        "\n",
        "\n",
        "# 1) Rebuild your model architecture\n",
        "conv_base = VGG16(\n",
        "    weights='imagenet',\n",
        "    include_top=False,\n",
        "    input_shape=(48, 48, 3)\n",
        ")\n",
        "\n",
        "model = models.Sequential([\n",
        "    conv_base,\n",
        "    layers.Flatten(),\n",
        "    layers.Dense(512, activation='relu'),\n",
        "    layers.Dense(7,   activation='softmax')\n",
        "])\n",
        "\n",
        "# 2) Compile (needed before loading weights / calling predict)\n",
        "conv_base.trainable = True  # since you fine‑tuned\n",
        "model.compile(\n",
        "    optimizer=RMSprop(learning_rate=1e-5),\n",
        "    loss=CategoricalCrossentropy(),\n",
        "    metrics=[CategoricalAccuracy()]\n",
        ")\n",
        "\n",
        "# 3) Load the final fine‑tuned weights\n",
        "model.load_weights(\n",
        "    '/content/drive/MyDrive/checkpoints/'\n",
        "    'emotion_weights_on_vgg16_cbtOn_epoch_60.weights.h5'\n",
        ")\n",
        "\n",
        "# 4) Label map for FER2013\n",
        "label_map = {\n",
        "    0: \"Angry\",\n",
        "    1: \"Disgust\",\n",
        "    2: \"Fear\",\n",
        "    3: \"Happy\",\n",
        "    4: \"Sad\",\n",
        "    5: \"Surprise\",\n",
        "    6: \"Neutral\"\n",
        "}\n",
        "\n",
        "def predict_emotion(image_path, show_image=True):\n",
        "    # a) Load and convert to RGB\n",
        "    img = Image.open(image_path).convert('RGB')\n",
        "    open_cv_image = np.array(img)\n",
        "    gray = cv2.cvtColor(open_cv_image, cv2.COLOR_RGB2GRAY)\n",
        "\n",
        "    # b) Load Haar cascade for face detection\n",
        "    face_cascade = cv2.CascadeClassifier(cv2.data.haarcascades +\n",
        "                                         'haarcascade_frontalface_default.xml')\n",
        "\n",
        "    faces = face_cascade.detectMultiScale(gray, scaleFactor=1.1, minNeighbors=5)\n",
        "\n",
        "    if len(faces) == 0:\n",
        "        raise ValueError(\"No face detected in the image.\")\n",
        "\n",
        "    # c) Crop the first detected face\n",
        "    x, y, w, h = faces[0]\n",
        "    face_img = open_cv_image[y:y+h, x:x+w]\n",
        "\n",
        "    # d) Resize to (48, 48)\n",
        "    face_img_pil = Image.fromarray(face_img).resize((48, 48), Image.LANCZOS)\n",
        "\n",
        "    # e) Optionally show\n",
        "    if show_image:\n",
        "        plt.figure(figsize=(2,2))\n",
        "        plt.imshow(face_img_pil)\n",
        "        plt.axis('off')\n",
        "        plt.title(\"Detected Face\")\n",
        "        plt.show()\n",
        "    else:\n",
        "        print(\"No face detected in the image.\")\n",
        "\n",
        "    # f) Preprocess for model\n",
        "    x = np.asarray(face_img_pil, dtype='float32') / 255.0\n",
        "    x = np.expand_dims(x, axis=0)  # (1, 48, 48, 3)\n",
        "\n",
        "    # g) Predict\n",
        "    preds = model.predict(x)\n",
        "    idx   = np.argmax(preds[0])\n",
        "    prob  = preds[0][idx]\n",
        "\n",
        "    return label_map[idx], float(prob)\n",
        "\n"
      ]
    },
    {
      "cell_type": "code",
      "source": [
        "model.save('/content/drive/MyDrive/checkpoints/finetuning_on_pretrained_vgg16_finetuned.h5')"
      ],
      "metadata": {
        "colab": {
          "base_uri": "https://localhost:8080/"
        },
        "id": "rdWrpqOkyjpn",
        "outputId": "f6f274eb-e455-4d39-b1a8-4eccd0b84c5f"
      },
      "execution_count": 4,
      "outputs": [
        {
          "output_type": "stream",
          "name": "stderr",
          "text": [
            "WARNING:absl:You are saving your model as an HDF5 file via `model.save()` or `keras.saving.save_model(model)`. This file format is considered legacy. We recommend using instead the native Keras format, e.g. `model.save('my_model.keras')` or `keras.saving.save_model(model, 'my_model.keras')`. \n"
          ]
        }
      ]
    },
    {
      "cell_type": "code",
      "source": [
        "from google.colab import files\n",
        "files.download('/content/drive/MyDrive/checkpoints/finetuning_on_pretrained_vgg16_finetuned.h5')"
      ],
      "metadata": {
        "colab": {
          "base_uri": "https://localhost:8080/",
          "height": 17
        },
        "id": "pp5M8VELyr56",
        "outputId": "d761c5f9-b3e9-4d60-e32f-b4c3c036191c"
      },
      "execution_count": 5,
      "outputs": [
        {
          "output_type": "display_data",
          "data": {
            "text/plain": [
              "<IPython.core.display.Javascript object>"
            ],
            "application/javascript": [
              "\n",
              "    async function download(id, filename, size) {\n",
              "      if (!google.colab.kernel.accessAllowed) {\n",
              "        return;\n",
              "      }\n",
              "      const div = document.createElement('div');\n",
              "      const label = document.createElement('label');\n",
              "      label.textContent = `Downloading \"${filename}\": `;\n",
              "      div.appendChild(label);\n",
              "      const progress = document.createElement('progress');\n",
              "      progress.max = size;\n",
              "      div.appendChild(progress);\n",
              "      document.body.appendChild(div);\n",
              "\n",
              "      const buffers = [];\n",
              "      let downloaded = 0;\n",
              "\n",
              "      const channel = await google.colab.kernel.comms.open(id);\n",
              "      // Send a message to notify the kernel that we're ready.\n",
              "      channel.send({})\n",
              "\n",
              "      for await (const message of channel.messages) {\n",
              "        // Send a message to notify the kernel that we're ready.\n",
              "        channel.send({})\n",
              "        if (message.buffers) {\n",
              "          for (const buffer of message.buffers) {\n",
              "            buffers.push(buffer);\n",
              "            downloaded += buffer.byteLength;\n",
              "            progress.value = downloaded;\n",
              "          }\n",
              "        }\n",
              "      }\n",
              "      const blob = new Blob(buffers, {type: 'application/binary'});\n",
              "      const a = document.createElement('a');\n",
              "      a.href = window.URL.createObjectURL(blob);\n",
              "      a.download = filename;\n",
              "      div.appendChild(a);\n",
              "      a.click();\n",
              "      div.remove();\n",
              "    }\n",
              "  "
            ]
          },
          "metadata": {}
        },
        {
          "output_type": "display_data",
          "data": {
            "text/plain": [
              "<IPython.core.display.Javascript object>"
            ],
            "application/javascript": [
              "download(\"download_84488776-209f-455c-915d-d6f8010e40dc\", \"finetuning_on_pretrained_vgg16_finetuned.h5\", 59998192)"
            ]
          },
          "metadata": {}
        }
      ]
    },
    {
      "cell_type": "code",
      "source": [
        "model.summary()"
      ],
      "metadata": {
        "id": "ueE_ouBdc1L_"
      },
      "execution_count": null,
      "outputs": []
    },
    {
      "cell_type": "code",
      "source": [
        "!ls '/content/drive/MyDrive/datasets/test/'"
      ],
      "metadata": {
        "colab": {
          "base_uri": "https://localhost:8080/"
        },
        "id": "hORsr4t3zPSa",
        "outputId": "a508a605-1de4-46de-e902-f4a9d6677bc3"
      },
      "execution_count": 15,
      "outputs": [
        {
          "output_type": "stream",
          "name": "stdout",
          "text": [
            "angry2.jpg  HappyKid.jpg  sadkid2.jpg  sadkid.jpg\n",
            "angry.jpg   sad4.jpg\t  sadkid3.jpg\n"
          ]
        }
      ]
    },
    {
      "cell_type": "code",
      "source": [
        "# Example usage:\n",
        "label, confidence = predict_emotion('/content/drive/MyDrive/datasets/test/angry2.jpg')\n",
        "print(f\"Predicted: {label} ({confidence*100:.1f}%)\")\n"
      ],
      "metadata": {
        "colab": {
          "base_uri": "https://localhost:8080/",
          "height": 248
        },
        "id": "0XPhTXgSnvfs",
        "outputId": "977ce95b-aec7-483e-c0ac-586391cb4202"
      },
      "execution_count": 29,
      "outputs": [
        {
          "output_type": "display_data",
          "data": {
            "text/plain": [
              "<Figure size 200x200 with 1 Axes>"
            ],
            "image/png": "[encoded data removed]"
          },
          "metadata": {}
        },
        {
          "output_type": "stream",
          "name": "stdout",
          "text": [
            "\u001b[1m1/1\u001b[0m \u001b[32m━━━━━━━━━━━━━━━━━━━━\u001b[0m\u001b[37m\u001b[0m \u001b[1m0s\u001b[0m 48ms/step\n",
            "Predicted: Surprise (100.0%)\n"
          ]
        }
      ]
    },
    {
      "cell_type": "code",
      "source": [],
      "metadata": {
        "id": "1HsUUoTRoznb"
      },
      "execution_count": null,
      "outputs": []
    }
  ]
}